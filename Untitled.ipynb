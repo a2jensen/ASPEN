{
 "cells": [
  {
   "cell_type": "code",
   "execution_count": null,
   "id": "1f1cf883-5ed4-4999-9799-f5d1d0931441",
   "metadata": {},
   "outputs": [],
   "source": [
    "print(\"trevor\")\n",
    "\n",
    "\n",
    "print(\"bye\")\n",
    "\n",
    "print(\"bye\")\n",
    "\n",
    "print(\"b\")\n",
    "print(\"H\")\n",
    "\n",
    "\n",
    "print(\"bye\")\n",
    "\n",
    "\n",
    "print(\"bye\")\n",
    "\n",
    "print(\"b\")\n",
    "\n",
    "\n",
    "print(\"b\")\n",
    "print(\"H\")\n",
    "\n",
    "print(\"b\")\n",
    "print(\"H\")\n",
    "\n",
    "print(\"b\")\n",
    "print(\"H\")\n",
    "\n",
    "print(\"b\")\n",
    "print(\"H\")\n",
    "\n",
    "print(\"b\")\n",
    "print(\"H\")\n",
    "\n",
    "print(\"b\")\n",
    "print(\"H\")\n",
    "\n",
    "print(\"b\")\n",
    "print(\"H\")\n",
    "\n",
    "print(\"b\")\n",
    "print(\"H\")\n"
   ]
  }
 ],
 "metadata": {
  "kernelspec": {
   "display_name": "Python 3 (ipykernel)",
   "language": "python",
   "name": "python3"
  },
  "language_info": {
   "codemirror_mode": {
    "name": "ipython",
    "version": 3
   },
   "file_extension": ".py",
   "mimetype": "text/x-python",
   "name": "python",
   "nbconvert_exporter": "python",
   "pygments_lexer": "ipython3",
   "version": "3.13.5"
  }
 },
 "nbformat": 4,
 "nbformat_minor": 5
}
