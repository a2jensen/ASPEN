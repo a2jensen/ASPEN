{
 "cells": [
  {
   "cell_type": "code",
   "execution_count": null,
   "id": "73236c57-05a0-42d1-a5b0-78b7517752ec",
   "metadata": {},
   "outputs": [],
   "source": [
    " ml;kjbhvjgjkljnbbnml;kjbhvjgjkljnbbnml;kjbhvjgjkljnbbnml;kjbhvjgjkljnbbnml;kjbhvjgjkljnbbnml;kjbhvjgjkljnbbnml;kjbhvjgjkljnbbnml;kjbhvjgjkljnbbnml;kjbhvjgjkljnbbnml;kjbhvjgjkljnbbnml;kjbhvjgjkljnbbnml;kjbhvjgjkljnbbnml;kjbhvjgjkljnbbnml;kjbhvjgjkljnbbnml;kjbhvjgjkljnbbn"
   ]
  },
  {
   "cell_type": "code",
   "execution_count": null,
   "id": "4b7c9bd3-e857-47a7-bb27-e9783c8a261f",
   "metadata": {},
   "outputs": [],
   "source": [
    "\n"
   ]
  },
  {
   "cell_type": "code",
   "execution_count": null,
   "id": "1bbaab26-a74f-4725-98fd-65c4dc23d1a1",
   "metadata": {},
   "outputs": [],
   "source": [
    "sddsdsdsdsdsdsdasasddsdsdsdsdsdsdasasddsdsdsdsdsdsdasa"
   ]
  }
 ],
 "metadata": {
  "kernelspec": {
   "display_name": "Python 3 (ipykernel)",
   "language": "python",
   "name": "python3"
  },
  "language_info": {
   "codemirror_mode": {
    "name": "ipython",
    "version": 3
   },
   "file_extension": ".py",
   "mimetype": "text/x-python",
   "name": "python",
   "nbconvert_exporter": "python",
   "pygments_lexer": "ipython3",
   "version": "3.13.1"
  }
 },
 "nbformat": 4,
 "nbformat_minor": 5
}
