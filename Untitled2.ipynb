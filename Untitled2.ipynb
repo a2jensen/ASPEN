{
 "cells": [
  {
   "cell_type": "code",
   "execution_count": null,
   "id": "ccac8e75-2aab-4330-ac92-2c464193dd24",
   "metadata": {},
   "outputs": [],
   "source": [
    "{\"id\":\"1739961301594\",\"name\":\"Snippet 2\",\"content\":\"#template start\\ndef add2(): \\n  sum = 2 + 2\\n  return sum\\n#template end\",\"dateCreated\":\"2025-02-19T10:35:01.594Z\",\"dateUpdated\":\"2025-03-05T08:21:18.543Z\",\"tags\":[],\"color\":\"#FFE694\",\"connections\":[]}"
   ]
  },
  {
   "cell_type": "code",
   "execution_count": null,
   "id": "4792c8f7-d56c-490c-bc6d-8cfe830b1360",
   "metadata": {},
   "outputs": [],
   "source": []
  }
 ],
 "metadata": {
  "kernelspec": {
   "display_name": "Python 3 (ipykernel)",
   "language": "python",
   "name": "python3"
  },
  "language_info": {
   "codemirror_mode": {
    "name": "ipython",
    "version": 3
   },
   "file_extension": ".py",
   "mimetype": "text/x-python",
   "name": "python",
   "nbconvert_exporter": "python",
   "pygments_lexer": "ipython3",
   "version": "3.13.2"
  }
 },
 "nbformat": 4,
 "nbformat_minor": 5
}
