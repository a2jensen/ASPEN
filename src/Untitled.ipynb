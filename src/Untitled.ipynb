{
 "cells": [
  {
   "cell_type": "code",
   "execution_count": null,
   "id": "5299f9d4-f080-40b0-b462-73530c62fefa",
   "metadata": {},
   "outputs": [],
   "source": [
    "\n",
    "\n",
    "\n",
    "hh\n",
    "\n",
    "\n",
    "\n",
    "\n",
    "\n",
    "\n",
    "\n",
    "j\n",
    "j\n",
    "j\n",
    "ihl\n",
    "vvvvvvnnn\n",
    "hh\n",
    "kkghkk\n",
    "\n",
    "\n",
    "jj\n",
    "jj\n",
    "jj\n",
    "jj\n",
    "jj\n",
    "jj\n",
    "jj\n",
    "jj\n",
    "jj\n",
    "jj\n"
   ]
  }
 ],
 "metadata": {
  "kernelspec": {
   "display_name": "Python 3 (ipykernel)",
   "language": "python",
   "name": "python3"
  },
  "language_info": {
   "codemirror_mode": {
    "name": "ipython",
    "version": 3
   },
   "file_extension": ".py",
   "mimetype": "text/x-python",
   "name": "python",
   "nbconvert_exporter": "python",
   "pygments_lexer": "ipython3",
   "version": "3.13.1"
  }
 },
 "nbformat": 4,
 "nbformat_minor": 5
}
