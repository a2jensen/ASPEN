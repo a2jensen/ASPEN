{
 "cells": [
  {
   "cell_type": "code",
   "execution_count": null,
   "id": "d1c259b6-6005-4cc9-a180-3c9b53dc3795",
   "metadata": {},
   "outputs": [],
   "source": [
    "def add2():\n",
    "  sum = 2 + 2\n",
    "  print(“hi”)\n",
    "  return sum\n",
    "\n",
    "def add2():\n",
    "  sum = 2 + 2\n",
    "  print(“hi”)\n",
    "  return sum\n",
    "\n",
    "\n",
    "def add2():\n",
    "  total = 2 + 2\n",
    "  print(“hi”)\n",
    "  return total\n",
    "\n",
    "\n",
    "print(\"hello\")\n",
    "\n",
    "print(\"bonjour\")\n",
    "\n",
    "print(\"goodbye\")\n",
    "\n",
    "print(\"trevor\")\n"
   ]
  },
  {
   "cell_type": "code",
   "execution_count": null,
   "id": "a55eaf66-0c33-4e2d-90fe-550aa799f914",
   "metadata": {},
   "outputs": [],
   "source": [
    "\n",
    "print(\"michael\")\n"
   ]
  }
 ],
 "metadata": {
  "kernelspec": {
   "display_name": "Python 3 (ipykernel)",
   "language": "python",
   "name": "python3"
  },
  "language_info": {
   "codemirror_mode": {
    "name": "ipython",
    "version": 3
   },
   "file_extension": ".py",
   "mimetype": "text/x-python",
   "name": "python",
   "nbconvert_exporter": "python",
   "pygments_lexer": "ipython3",
   "version": "3.13.2"
  }
 },
 "nbformat": 4,
 "nbformat_minor": 5
}
