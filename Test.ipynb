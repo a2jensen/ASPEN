{
 "cells": [
  {
   "cell_type": "code",
   "execution_count": null,
   "id": "d1c259b6-6005-4cc9-a180-3c9b53dc3795",
   "metadata": {},
   "outputs": [],
   "source": [
    "## Manual release"
   ]
  }
 ],
 "metadata": {
  "kernelspec": {
   "display_name": "Python 3 (ipykernel)",
   "language": "python",
   "name": "python3"
  },
  "language_info": {
   "codemirror_mode": {
    "name": "ipython",
    "version": 3
   },
   "file_extension": ".py",
   "mimetype": "text/x-python",
   "name": "python",
   "nbconvert_exporter": "python",
   "pygments_lexer": "ipython3",
   "version": "3.13.1"
  }
 },
 "nbformat": 4,
 "nbformat_minor": 5
}
