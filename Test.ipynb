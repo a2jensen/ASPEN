{
 "cells": [
  {
   "cell_type": "code",
   "execution_count": null,
   "id": "d1c259b6-6005-4cc9-a180-3c9b53dc3795",
   "metadata": {},
   "outputs": [],
   "source": [
    "print(\"hello\")"
   ]
  },
  {
   "cell_type": "code",
   "execution_count": null,
   "id": "ab763add-2607-4fd2-a598-a0d2e0770f8a",
   "metadata": {},
   "outputs": [],
   "source": [
    "print(\"hello\")\n",
    "\n",
    "#template start\n",
    "print(\"hello\")\n",
    "#template end\n"
   ]
  },
  {
   "cell_type": "code",
   "execution_count": null,
   "id": "8d759f15-40b8-4f68-a3c0-d954399527ae",
   "metadata": {},
   "outputs": [],
   "source": [
    "def add2(): \n",
    "  sum = 2 + 2\n",
    "  return sum"
   ]
  }
 ],
 "metadata": {
  "kernelspec": {
   "display_name": "Python 3 (ipykernel)",
   "language": "python",
   "name": "python3"
  },
  "language_info": {
   "codemirror_mode": {
    "name": "ipython",
    "version": 3
   },
   "file_extension": ".py",
   "mimetype": "text/x-python",
   "name": "python",
   "nbconvert_exporter": "python",
   "pygments_lexer": "ipython3",
   "version": "3.13.1"
  }
 },
 "nbformat": 4,
 "nbformat_minor": 5
}
