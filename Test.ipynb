{
 "cells": [
  {
   "cell_type": "code",
   "execution_count": 2,
   "id": "d1c259b6-6005-4cc9-a180-3c9b53dc3795",
   "metadata": {},
   "outputs": [
    {
     "data": {
      "text/html": [
       "<div>\n",
       "<style scoped>\n",
       "    .dataframe tbody tr th:only-of-type {\n",
       "        vertical-align: middle;\n",
       "    }\n",
       "\n",
       "    .dataframe tbody tr th {\n",
       "        vertical-align: top;\n",
       "    }\n",
       "\n",
       "    .dataframe thead th {\n",
       "        text-align: right;\n",
       "    }\n",
       "</style>\n",
       "<table border=\"1\" class=\"dataframe\">\n",
       "  <thead>\n",
       "    <tr style=\"text-align: right;\">\n",
       "      <th></th>\n",
       "      <th>date</th>\n",
       "      <th>PM2.5</th>\n",
       "      <th>NO2</th>\n",
       "      <th>location</th>\n",
       "    </tr>\n",
       "  </thead>\n",
       "  <tbody>\n",
       "    <tr>\n",
       "      <th>0</th>\n",
       "      <td>2024-01-01</td>\n",
       "      <td>35.0</td>\n",
       "      <td>40.0</td>\n",
       "      <td>Downtown</td>\n",
       "    </tr>\n",
       "    <tr>\n",
       "      <th>1</th>\n",
       "      <td>2024-01-02</td>\n",
       "      <td>NaN</td>\n",
       "      <td>50.0</td>\n",
       "      <td>Downtown</td>\n",
       "    </tr>\n",
       "    <tr>\n",
       "      <th>2</th>\n",
       "      <td>2024-01-03</td>\n",
       "      <td>999.0</td>\n",
       "      <td>70.0</td>\n",
       "      <td>Downtown</td>\n",
       "    </tr>\n",
       "    <tr>\n",
       "      <th>3</th>\n",
       "      <td>2024-01-04</td>\n",
       "      <td>20.0</td>\n",
       "      <td>25.0</td>\n",
       "      <td>Suburb</td>\n",
       "    </tr>\n",
       "    <tr>\n",
       "      <th>4</th>\n",
       "      <td>2024-01-05</td>\n",
       "      <td>15.0</td>\n",
       "      <td>NaN</td>\n",
       "      <td>Suburb</td>\n",
       "    </tr>\n",
       "  </tbody>\n",
       "</table>\n",
       "</div>"
      ],
      "text/plain": [
       "         date  PM2.5   NO2  location\n",
       "0  2024-01-01   35.0  40.0  Downtown\n",
       "1  2024-01-02    NaN  50.0  Downtown\n",
       "2  2024-01-03  999.0  70.0  Downtown\n",
       "3  2024-01-04   20.0  25.0    Suburb\n",
       "4  2024-01-05   15.0   NaN    Suburb"
      ]
     },
     "execution_count": 2,
     "metadata": {},
     "output_type": "execute_result"
    }
   ],
   "source": [
    "import pandas as pd\n",
    "# Example air quality dataset\n",
    "df = pd.read_csv(\"air_quality_data.csv\")\n",
    "df.head()"
   ]
  },
  {
   "cell_type": "code",
   "execution_count": 3,
   "id": "77569f82-aea4-477e-bf88-6f815aa5ee15",
   "metadata": {},
   "outputs": [
    {
     "name": "stdout",
     "output_type": "stream",
     "text": [
      "         date  PM2.5   NO2  location\n",
      "0  2024-01-01   35.0  40.0  Downtown\n",
      "2  2024-01-03  500.0  70.0  Downtown\n",
      "3  2024-01-04   20.0  25.0    Suburb\n",
      "5  2024-01-06   45.0  45.0  Downtown\n",
      "6  2024-01-06   45.0  45.0  Downtown\n",
      "7  2024-01-07   10.0  15.0    Suburb\n",
      "8  2024-01-08    5.0  10.0    Suburb\n"
     ]
    }
   ],
   "source": [
    "# Experiment 1\n",
    "def clean_data(df):\n",
    "    df = df.dropna()\n",
    "    df = df[df[\"Tag\"]] == \"Systems\"]\n",
    "    df = df[df[\"ClassSize\"] > 50]\n",
    "    df = df[df[\"Department\"] == \"CSE\"] \n",
    "    print(df)\n",
    "    return df\n",
    "\n",
    "    "
   ]
  },
  {
   "cell_type": "code",
   "execution_count": 7,
   "id": "a9e68af0-8b18-42ce-b3fe-625f570a653b",
   "metadata": {},
   "outputs": [],
   "source": [
    "# Experiment 1: Original\n",
    "def clean_data(df):\n",
    "    df = df.dropna()\n",
    "    df = df[df[\"Tag\"]]==\"Theory\"]\n",
    "    df = df[df[\"ClassSize\"] > 150]\n",
    "    df = df[df[\"Department\"]==\"CSE\"]\n",
    "    print(df)\n",
    "    # more data cleaning logic...\n",
    "m"
   ]
  },
  {
   "cell_type": "code",
   "execution_count": 8,
   "id": "ab57a0c3-552d-44ea-bb2a-d5c63a6dbbc5",
   "metadata": {},
   "outputs": [],
   "source": [
    "def clean_data(df):\n",
    "    df = df.dropna()\n",
    "    df = df.drop_duplicates()\n",
    "    df = df[df[\"PM2.5\"] > 0]\n",
    "    df[\"PM2.5\"] = df[\"PM2.5\"].clip(upper=500)\n",
    "    return df\n"
   ]
  },
  {
   "cell_type": "code",
   "execution_count": null,
   "id": "25e44ac0-4620-41fb-b154-d57a0c085495",
   "metadata": {},
   "outputs": [],
   "source": [
    "\n",
    "    df = df.dropna()\n",
    "    df = df[df[\"PM2.5\"] > 0]\n",
    "    df[\"PM2.5\"] = df[\"PM2.5\"].clip(upper=500);;;\n"
   ]
  }
 ],
 "metadata": {
  "kernelspec": {
   "display_name": "Python 3 (ipykernel)",
   "language": "python",
   "name": "python3"
  },
  "language_info": {
   "codemirror_mode": {
    "name": "ipython",
    "version": 3
   },
   "file_extension": ".py",
   "mimetype": "text/x-python",
   "name": "python",
   "nbconvert_exporter": "python",
   "pygments_lexer": "ipython3",
   "version": "3.13.3"
  }
 },
 "nbformat": 4,
 "nbformat_minor": 5
}
